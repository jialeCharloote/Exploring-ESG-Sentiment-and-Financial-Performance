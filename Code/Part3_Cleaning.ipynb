{
 "cells": [
  {
   "cell_type": "markdown",
   "id": "e5ee1626",
   "metadata": {},
   "source": [
    "## Data Cleaning and Preprocessing Notebook"
   ]
  },
  {
   "cell_type": "markdown",
   "id": "c6d0bd2e",
   "metadata": {},
   "source": [
    "This notebook aims to cleana dataset that combines Environmental, Social, and Governance (ESG) scores with various financial metrics of companies. It also preprocess the data so that we have everything we need for the analysis part at the end of this notebook."
   ]
  },
  {
   "cell_type": "markdown",
   "id": "afa17528",
   "metadata": {},
   "source": [
    "### Load packages and define the fucntions for data cleaning and preprocessing"
   ]
  },
  {
   "cell_type": "code",
   "execution_count": 1,
   "id": "59a0d3b3",
   "metadata": {},
   "outputs": [],
   "source": [
    "import pandas as pd\n",
    "import numpy as np"
   ]
  },
  {
   "cell_type": "code",
   "execution_count": 2,
   "id": "e2b5cc82",
   "metadata": {},
   "outputs": [],
   "source": [
    "def classify_sic(sic_code):\n",
    "    \"\"\"\n",
    "    Classify a given Standard Industrial Classification (SIC) code into a broad industry category.\n",
    "\n",
    "    Parameters:\n",
    "    - sic_code (int): The SIC code to classify. This should be a four-digit integer representing \n",
    "      the industry of a company or business entity.\n",
    "\n",
    "    Returns:\n",
    "    - str: A string representing the broad industry category. Possible return values include \n",
    "      'Agriculture, Forestry, and Fishing', 'Mining', 'Construction', 'Manufacturing', \n",
    "      'Transportation and Public Utilities', 'Wholesale Trade', 'Retail Trade', \n",
    "      'Finance, Insurance, Real Estate', 'Services', 'Public Administration', and \n",
    "      'Nonclassifiable' for SIC codes that do not fit into the other categories.\n",
    "    \"\"\"\n",
    "    \n",
    "    if 100 <= sic_code <= 999:\n",
    "        return 'Agriculture, Forestry, and Fishing'\n",
    "    elif 1000 <= sic_code <= 1499:\n",
    "        return 'Mining'\n",
    "    elif 1500 <= sic_code <= 1799:\n",
    "        return 'Construction'\n",
    "    elif 2000 <= sic_code <= 3999:\n",
    "        return 'Manufacturing'\n",
    "    elif 4000 <= sic_code <= 4999:\n",
    "        return 'Transportation and Public Utilities'\n",
    "    elif 5000 <= sic_code <= 5199:\n",
    "        return 'Wholesale Trade'\n",
    "    elif 5200 <= sic_code <= 5999:\n",
    "        return 'Retail Trade'\n",
    "    elif 6000 <= sic_code <= 6799:\n",
    "        return 'Finance, Insurance, Real Estate'\n",
    "    elif 7000 <= sic_code <= 8999:\n",
    "        return 'Services'\n",
    "    elif 9100 <= sic_code <= 9799:\n",
    "        return 'Public Administration'\n",
    "    else:\n",
    "        return 'Nonclassifiable'"
   ]
  },
  {
   "cell_type": "markdown",
   "id": "ea9ed012",
   "metadata": {},
   "source": [
    "## Data Cleaning"
   ]
  },
  {
   "cell_type": "code",
   "execution_count": 3,
   "id": "f0a9206a",
   "metadata": {},
   "outputs": [],
   "source": [
    "data_with_esg_scores = pd.read_csv('data_with_esg_scores.csv',dtype={'Filename': str})\n",
    "data_with_esg_scores.replace([\"n.a.\", \"n.s.\"], pd.NA, inplace=True)\n",
    "# Rows with missing values in critical financial metrics and ESG scores are removed\n",
    "# to ensure the integrity of the analysis.\n",
    "result_cleaned = data_with_esg_scores.dropna(subset=['ROE using P/L before tax\\nLast avail. yr',\n",
    "                                                     \"Total assets\\nth USD Last avail. yr\",\n",
    "                                                     \"Solvency ratio (Asset based)\\nLast avail. yr\"])"
   ]
  },
  {
   "cell_type": "markdown",
   "id": "469821b4",
   "metadata": {},
   "source": [
    "## Data Preprocessing"
   ]
  },
  {
   "cell_type": "code",
   "execution_count": 4,
   "id": "c77d65cf",
   "metadata": {},
   "outputs": [],
   "source": [
    "# rename for convinence\n",
    "result_cleaned = result_cleaned.rename(columns={'ROE using P/L before tax\\nLast avail. yr': 'roe'})\n",
    "result_cleaned = result_cleaned.rename(columns={\"Total assets\\nth USD Last avail. yr\": \"asset\"})\n",
    "result_cleaned = result_cleaned.rename(columns={\"Solvency ratio (Asset based)\\nLast avail. yr\": \"solvency\"})\n",
    "result_cleaned = result_cleaned.rename(columns={\"US SIC, primary code(s)\": \"sic\"})"
   ]
  },
  {
   "cell_type": "code",
   "execution_count": 5,
   "id": "35cfbae8",
   "metadata": {},
   "outputs": [],
   "source": [
    "result_cleaned = result_cleaned.rename(columns={\"Total ESG Score\": \"Total ESG Sentiment\"})\n",
    "result_cleaned = result_cleaned.rename(columns={\"Environmental Score\": \"Total Environmental Sentiment\"})\n",
    "result_cleaned = result_cleaned.rename(columns={\"Social Score\": \"Total Social Sentiment\"})\n",
    "result_cleaned = result_cleaned.rename(columns={\"Governance Score\": \"Total Governance Sentiment\"})"
   ]
  },
  {
   "cell_type": "code",
   "execution_count": 6,
   "id": "59d5082d",
   "metadata": {},
   "outputs": [],
   "source": [
    "df = result_cleaned[[\"roe\", \"asset\", \"solvency\",'Total ESG Sentiment', \"Total Environmental Sentiment\", \"Total Social Sentiment\", \"Total Governance Sentiment\"]]\n",
    "\n",
    "# Selected columns are converted to float type\n",
    "df = df.astype(float)\n",
    "\n",
    "df[\"Content\"] = result_cleaned[\"Content\"]\n",
    "df[\"sic\"] = result_cleaned[\"sic\"]"
   ]
  },
  {
   "cell_type": "code",
   "execution_count": 7,
   "id": "0a45bd1e",
   "metadata": {},
   "outputs": [],
   "source": [
    "# deal with outliers\n",
    "df = df[(df['roe'] >= -100) & (df['roe'] <= 100)]"
   ]
  },
  {
   "cell_type": "code",
   "execution_count": 8,
   "id": "1636244b",
   "metadata": {},
   "outputs": [],
   "source": [
    "# construct variables\n",
    "df['asset_log'] = np.log(df['asset'])\n",
    "df[\"roe_asset_log\"] = df[\"roe\"] * df[\"asset_log\"]\n",
    "df[\"roe_solvency\"] = df[\"roe\"] * df[\"solvency\"]\n",
    "df[\"asset_log_solvency\"] = df[\"asset_log\"] * df[\"solvency\"]"
   ]
  },
  {
   "cell_type": "code",
   "execution_count": 9,
   "id": "d32af635",
   "metadata": {},
   "outputs": [
    {
     "data": {
      "text/html": [
       "<div>\n",
       "<style scoped>\n",
       "    .dataframe tbody tr th:only-of-type {\n",
       "        vertical-align: middle;\n",
       "    }\n",
       "\n",
       "    .dataframe tbody tr th {\n",
       "        vertical-align: top;\n",
       "    }\n",
       "\n",
       "    .dataframe thead th {\n",
       "        text-align: right;\n",
       "    }\n",
       "</style>\n",
       "<table border=\"1\" class=\"dataframe\">\n",
       "  <thead>\n",
       "    <tr style=\"text-align: right;\">\n",
       "      <th></th>\n",
       "      <th>roe</th>\n",
       "      <th>asset</th>\n",
       "      <th>solvency</th>\n",
       "      <th>Total ESG Sentiment</th>\n",
       "      <th>Total Environmental Sentiment</th>\n",
       "      <th>Total Social Sentiment</th>\n",
       "      <th>Total Governance Sentiment</th>\n",
       "      <th>sic</th>\n",
       "      <th>asset_log</th>\n",
       "      <th>roe_asset_log</th>\n",
       "      <th>roe_solvency</th>\n",
       "      <th>asset_log_solvency</th>\n",
       "    </tr>\n",
       "  </thead>\n",
       "  <tbody>\n",
       "    <tr>\n",
       "      <th>count</th>\n",
       "      <td>984.000000</td>\n",
       "      <td>9.840000e+02</td>\n",
       "      <td>984.000000</td>\n",
       "      <td>984.000000</td>\n",
       "      <td>984.000000</td>\n",
       "      <td>984.000000</td>\n",
       "      <td>984.000000</td>\n",
       "      <td>984.000000</td>\n",
       "      <td>984.000000</td>\n",
       "      <td>984.000000</td>\n",
       "      <td>984.000000</td>\n",
       "      <td>984.000000</td>\n",
       "    </tr>\n",
       "    <tr>\n",
       "      <th>mean</th>\n",
       "      <td>9.007768</td>\n",
       "      <td>1.357856e+07</td>\n",
       "      <td>44.723943</td>\n",
       "      <td>0.143324</td>\n",
       "      <td>0.043546</td>\n",
       "      <td>0.043891</td>\n",
       "      <td>0.055886</td>\n",
       "      <td>4890.928862</td>\n",
       "      <td>14.931516</td>\n",
       "      <td>154.482975</td>\n",
       "      <td>258.029206</td>\n",
       "      <td>652.903784</td>\n",
       "    </tr>\n",
       "    <tr>\n",
       "      <th>std</th>\n",
       "      <td>29.537900</td>\n",
       "      <td>3.806494e+07</td>\n",
       "      <td>20.167788</td>\n",
       "      <td>0.052486</td>\n",
       "      <td>0.041821</td>\n",
       "      <td>0.023513</td>\n",
       "      <td>0.035427</td>\n",
       "      <td>2104.716903</td>\n",
       "      <td>1.761793</td>\n",
       "      <td>429.850339</td>\n",
       "      <td>1427.491015</td>\n",
       "      <td>272.517369</td>\n",
       "    </tr>\n",
       "    <tr>\n",
       "      <th>min</th>\n",
       "      <td>-96.581000</td>\n",
       "      <td>3.096520e+03</td>\n",
       "      <td>3.945000</td>\n",
       "      <td>0.000000</td>\n",
       "      <td>0.000000</td>\n",
       "      <td>0.000000</td>\n",
       "      <td>0.000000</td>\n",
       "      <td>174.000000</td>\n",
       "      <td>8.038034</td>\n",
       "      <td>-1401.308951</td>\n",
       "      <td>-8610.679055</td>\n",
       "      <td>65.474546</td>\n",
       "    </tr>\n",
       "    <tr>\n",
       "      <th>25%</th>\n",
       "      <td>-3.093500</td>\n",
       "      <td>9.931552e+05</td>\n",
       "      <td>29.958750</td>\n",
       "      <td>0.109048</td>\n",
       "      <td>0.010010</td>\n",
       "      <td>0.026291</td>\n",
       "      <td>0.035248</td>\n",
       "      <td>3491.000000</td>\n",
       "      <td>13.808631</td>\n",
       "      <td>-42.010371</td>\n",
       "      <td>-117.940164</td>\n",
       "      <td>457.068242</td>\n",
       "    </tr>\n",
       "    <tr>\n",
       "      <th>50%</th>\n",
       "      <td>10.586000</td>\n",
       "      <td>3.013561e+06</td>\n",
       "      <td>43.047500</td>\n",
       "      <td>0.142326</td>\n",
       "      <td>0.030798</td>\n",
       "      <td>0.041623</td>\n",
       "      <td>0.048708</td>\n",
       "      <td>4911.000000</td>\n",
       "      <td>14.918629</td>\n",
       "      <td>163.460060</td>\n",
       "      <td>389.347814</td>\n",
       "      <td>637.130502</td>\n",
       "    </tr>\n",
       "    <tr>\n",
       "      <th>75%</th>\n",
       "      <td>24.052500</td>\n",
       "      <td>9.293919e+06</td>\n",
       "      <td>57.451500</td>\n",
       "      <td>0.174789</td>\n",
       "      <td>0.064500</td>\n",
       "      <td>0.058521</td>\n",
       "      <td>0.066448</td>\n",
       "      <td>6798.000000</td>\n",
       "      <td>16.044871</td>\n",
       "      <td>367.081294</td>\n",
       "      <td>908.568794</td>\n",
       "      <td>847.303053</td>\n",
       "    </tr>\n",
       "    <tr>\n",
       "      <th>max</th>\n",
       "      <td>99.210000</td>\n",
       "      <td>5.278540e+08</td>\n",
       "      <td>99.922000</td>\n",
       "      <td>0.392510</td>\n",
       "      <td>0.241185</td>\n",
       "      <td>0.160381</td>\n",
       "      <td>0.320735</td>\n",
       "      <td>9711.000000</td>\n",
       "      <td>20.084330</td>\n",
       "      <td>1646.572801</td>\n",
       "      <td>4788.655040</td>\n",
       "      <td>1487.791602</td>\n",
       "    </tr>\n",
       "  </tbody>\n",
       "</table>\n",
       "</div>"
      ],
      "text/plain": [
       "              roe         asset    solvency  Total ESG Sentiment  \\\n",
       "count  984.000000  9.840000e+02  984.000000           984.000000   \n",
       "mean     9.007768  1.357856e+07   44.723943             0.143324   \n",
       "std     29.537900  3.806494e+07   20.167788             0.052486   \n",
       "min    -96.581000  3.096520e+03    3.945000             0.000000   \n",
       "25%     -3.093500  9.931552e+05   29.958750             0.109048   \n",
       "50%     10.586000  3.013561e+06   43.047500             0.142326   \n",
       "75%     24.052500  9.293919e+06   57.451500             0.174789   \n",
       "max     99.210000  5.278540e+08   99.922000             0.392510   \n",
       "\n",
       "       Total Environmental Sentiment  Total Social Sentiment  \\\n",
       "count                     984.000000              984.000000   \n",
       "mean                        0.043546                0.043891   \n",
       "std                         0.041821                0.023513   \n",
       "min                         0.000000                0.000000   \n",
       "25%                         0.010010                0.026291   \n",
       "50%                         0.030798                0.041623   \n",
       "75%                         0.064500                0.058521   \n",
       "max                         0.241185                0.160381   \n",
       "\n",
       "       Total Governance Sentiment          sic   asset_log  roe_asset_log  \\\n",
       "count                  984.000000   984.000000  984.000000     984.000000   \n",
       "mean                     0.055886  4890.928862   14.931516     154.482975   \n",
       "std                      0.035427  2104.716903    1.761793     429.850339   \n",
       "min                      0.000000   174.000000    8.038034   -1401.308951   \n",
       "25%                      0.035248  3491.000000   13.808631     -42.010371   \n",
       "50%                      0.048708  4911.000000   14.918629     163.460060   \n",
       "75%                      0.066448  6798.000000   16.044871     367.081294   \n",
       "max                      0.320735  9711.000000   20.084330    1646.572801   \n",
       "\n",
       "       roe_solvency  asset_log_solvency  \n",
       "count    984.000000          984.000000  \n",
       "mean     258.029206          652.903784  \n",
       "std     1427.491015          272.517369  \n",
       "min    -8610.679055           65.474546  \n",
       "25%     -117.940164          457.068242  \n",
       "50%      389.347814          637.130502  \n",
       "75%      908.568794          847.303053  \n",
       "max     4788.655040         1487.791602  "
      ]
     },
     "execution_count": 9,
     "metadata": {},
     "output_type": "execute_result"
    }
   ],
   "source": [
    "df.describe()"
   ]
  },
  {
   "cell_type": "markdown",
   "id": "cba0d135",
   "metadata": {},
   "source": [
    "There are altogether 984 valid samples. The above table displays everything needed for data analysis."
   ]
  },
  {
   "cell_type": "code",
   "execution_count": 10,
   "id": "27861cfe",
   "metadata": {},
   "outputs": [],
   "source": [
    "df['industry'] = df['sic'].apply(classify_sic)"
   ]
  },
  {
   "cell_type": "code",
   "execution_count": 12,
   "id": "b4046222",
   "metadata": {},
   "outputs": [],
   "source": [
    "# export data for further analysis\n",
    "df.to_csv('data_cleaned.csv', index=False)"
   ]
  }
 ],
 "metadata": {
  "kernelspec": {
   "display_name": "Python 3 (ipykernel)",
   "language": "python",
   "name": "python3"
  },
  "language_info": {
   "codemirror_mode": {
    "name": "ipython",
    "version": 3
   },
   "file_extension": ".py",
   "mimetype": "text/x-python",
   "name": "python",
   "nbconvert_exporter": "python",
   "pygments_lexer": "ipython3",
   "version": "3.11.4"
  }
 },
 "nbformat": 4,
 "nbformat_minor": 5
}
